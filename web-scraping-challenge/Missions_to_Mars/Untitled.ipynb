{
 "cells": [
  {
   "cell_type": "code",
   "execution_count": 1,
   "metadata": {},
   "outputs": [
    {
     "name": "stdout",
     "output_type": "stream",
     "text": [
      "[NbConvertApp] Converting notebook Missions_to_Mars.ipynb to script\n",
      "[NbConvertApp] Writing 4450 bytes to Missions_to_Mars.py\n"
     ]
    }
   ],
   "source": [
    "# !jupyter nbconvert --to script Missions_to_Mars.ipynb"
   ]
  },
  {
   "cell_type": "code",
   "execution_count": 3,
   "metadata": {},
   "outputs": [
    {
     "name": "stderr",
     "output_type": "stream",
     "text": [
      "\n",
      "\n",
      "====== WebDriver manager ======\n",
      "Current google-chrome version is 92.0.4515\n",
      "Get LATEST driver version for 92.0.4515\n",
      "Driver [/Users/rubyrose/.wdm/drivers/chromedriver/mac64/92.0.4515.107/chromedriver] found in cache\n"
     ]
    },
    {
     "name": "stdout",
     "output_type": "stream",
     "text": [
      "https://spaceimages-mars.com/https://spaceimages-mars.com/image/mars/Icaria%20Fossae7.jpg\n",
      "NASA's Perseverance Plans Next Sample Attempt\n",
      "________________\n",
      "<tr>\n",
      "<th scope=\"row\">Equatorial Diameter:</th>\n",
      "<td>6,792 km</td>\n",
      "</tr>\n",
      "________________\n",
      "<tr>\n",
      "<th scope=\"row\">Polar Diameter:</th>\n",
      "<td>6,752 km</td>\n",
      "</tr>\n",
      "________________\n",
      "<tr>\n",
      "<th scope=\"row\">Mass:</th>\n",
      "<td>\t6.39 × 10^23 kg (0.11 Earths)</td>\n",
      "</tr>\n",
      "________________\n",
      "<tr>\n",
      "<th scope=\"row\">Moons:</th>\n",
      "<td>\t2 ( <span class=\"red\">Phobos </span> &amp; <span class=\"red\"> Deimos </span>)</td>\n",
      "</tr>\n",
      "________________\n",
      "<tr>\n",
      "<th scope=\"row\">Orbit Distance:</th>\n",
      "<td>\t227,943,824 km (1.38 AU)</td>\n",
      "</tr>\n",
      "________________\n",
      "<tr>\n",
      "<th scope=\"row\">Orbit Period:</th>\n",
      "<td>\t687 days (1.9 years)</td>\n",
      "</tr>\n",
      "________________\n",
      "<tr>\n",
      "<th scope=\"row\">Surface Temperature:</th>\n",
      "<td>\t-87 to -5 °C</td>\n",
      "</tr>\n",
      "________________\n",
      "<tr>\n",
      "<th scope=\"row\">First Record:</th>\n",
      "<td>\t2nd millennium BC</td>\n",
      "</tr>\n",
      "________________\n",
      "<tr>\n",
      "<th scope=\"row\">Recorded By:</th>\n",
      "<td>\tEgyptian astronomers</td>\n",
      "</tr>\n",
      "[{'title': 'Cerberus Hemisphere Enhanced', 'img_url': 'https://astropedia.astrogeology.usgs.gov/download/Mars/Viking/cerberus_enhanced.tif/full.jpg'}, {'title': 'Schiaparelli Hemisphere Enhanced', 'img_url': 'https://astropedia.astrogeology.usgs.gov/download/Mars/Viking/schiaparelli_enhanced.tif/full.jpg'}, {'title': 'Syrtis Major Hemisphere Enhanced', 'img_url': 'https://astropedia.astrogeology.usgs.gov/download/Mars/Viking/syrtis_major_enhanced.tif/full.jpg'}, {'title': 'Valles Marineris Hemisphere Enhanced', 'img_url': 'https://astropedia.astrogeology.usgs.gov/download/Mars/Viking/valles_marineris_enhanced.tif/full.jpg'}]\n"
     ]
    }
   ],
   "source": [
    "# Dependencies\n",
    "from flask import Flask, render_template, redirect\n",
    "from flask_pymongo import PyMongo\n",
    "import Scrape_Mars\n"
   ]
  },
  {
   "cell_type": "code",
   "execution_count": 4,
   "metadata": {},
   "outputs": [],
   "source": [
    "# Create an instance of Flask\n",
    "app = Flask(__name__)"
   ]
  },
  {
   "cell_type": "code",
   "execution_count": null,
   "metadata": {},
   "outputs": [],
   "source": []
  }
 ],
 "metadata": {
  "kernelspec": {
   "display_name": "Python 3",
   "language": "python",
   "name": "python3"
  },
  "language_info": {
   "codemirror_mode": {
    "name": "ipython",
    "version": 3
   },
   "file_extension": ".py",
   "mimetype": "text/x-python",
   "name": "python",
   "nbconvert_exporter": "python",
   "pygments_lexer": "ipython3",
   "version": "3.8.5"
  }
 },
 "nbformat": 4,
 "nbformat_minor": 4
}
